{
 "cells": [
  {
   "cell_type": "markdown",
   "metadata": {},
   "source": [
    "# Imports"
   ]
  },
  {
   "cell_type": "code",
   "execution_count": 2,
   "metadata": {},
   "outputs": [],
   "source": [
    "import json\n",
    "import os\n",
    "import bz2\n",
    "import io\n",
    "from bz2 import BZ2File\n",
    "import pandas as pd\n",
    "import numpy as np"
   ]
  },
  {
   "cell_type": "markdown",
   "metadata": {},
   "source": [
    "# Read dataset"
   ]
  },
  {
   "cell_type": "code",
   "execution_count": 2,
   "metadata": {},
   "outputs": [],
   "source": [
    "input_dir = \"data/\" # update with your path "
   ]
  },
  {
   "cell_type": "code",
   "execution_count": 3,
   "metadata": {},
   "outputs": [],
   "source": [
    "# a helper function to get the lines from am archive\n",
    "def read_jsonlines(bz2_file):\n",
    "    text = bz2_file.read().decode('utf-8')\n",
    "    for line in text.split('\\n'):\n",
    "        if line != '':\n",
    "            yield line"
   ]
  },
  {
   "cell_type": "code",
   "execution_count": 4,
   "metadata": {},
   "outputs": [],
   "source": [
    "archives = os.listdir(input_dir)[:4] + os.listdir(input_dir)[5:]"
   ]
  },
  {
   "cell_type": "markdown",
   "metadata": {},
   "source": [
    "# Extract articles"
   ]
  },
  {
   "cell_type": "code",
   "execution_count": 5,
   "metadata": {
    "scrolled": false
   },
   "outputs": [
    {
     "name": "stdout",
     "output_type": "stream",
     "text": [
      "JDG-1978.jsonl.bz2 : 26712 articles à extraire\n",
      "GDL-1981.jsonl.bz2 : 31463 articles à extraire\n",
      "JDG-1975.jsonl.bz2 : 24134 articles à extraire\n",
      "GDL-1976.jsonl.bz2 : 20457 articles à extraire\n",
      "JDG-1973.jsonl.bz2 : 25514 articles à extraire\n",
      "JDG-1979.jsonl.bz2 : 25891 articles à extraire\n",
      "GDL-1971.jsonl.bz2 : 29228 articles à extraire\n",
      "GDL-1980.jsonl.bz2 : 29077 articles à extraire\n",
      "JDG-1974.jsonl.bz2 : 24927 articles à extraire\n",
      "GDL-1977.jsonl.bz2 : 27887 articles à extraire\n",
      "JDG-1972.jsonl.bz2 : 23188 articles à extraire\n",
      "GDL-1972.jsonl.bz2 : 25406 articles à extraire\n",
      "JDG-1977.jsonl.bz2 : 25989 articles à extraire\n",
      "JDG-1980.jsonl.bz2 : 27425 articles à extraire\n",
      "GDL-1974.jsonl.bz2 : 27028 articles à extraire\n",
      "GDL-1979.jsonl.bz2 : 28014 articles à extraire\n",
      "JDG-1971.jsonl.bz2 : 24524 articles à extraire\n",
      "GDL-1973.jsonl.bz2 : 27885 articles à extraire\n",
      "JDG-1976.jsonl.bz2 : 25187 articles à extraire\n",
      "JDG-1981.jsonl.bz2 : 27082 articles à extraire\n",
      "GDL-1975.jsonl.bz2 : 25420 articles à extraire\n",
      "GDL-1978.jsonl.bz2 : 31399 articles à extraire\n"
     ]
    }
   ],
   "source": [
    "id_, journal_, date_, page_, text_ = [], [], [], [], []\n",
    "\n",
    "for archive in archives:\n",
    "    \n",
    "    # take only the transformed archives\n",
    "    # open the archive\n",
    "    f = BZ2File(os.path.join(input_dir, archive), 'r')\n",
    "        \n",
    "    # get the list of articles it contains (= a json object on each line)\n",
    "    articles = list(read_jsonlines(f))\n",
    "    \n",
    "    print(archive, ':', len(articles), 'articles à extraire')\n",
    "        \n",
    "    # load the first 100 articles as json and access their attributes    \n",
    "    for a in articles:\n",
    "         \n",
    "        # decode the json string into an object (dict)\n",
    "        json_article = json.loads(a)\n",
    "        journal_.append(str(json_article[\"id\"])[:3])\n",
    "        date_.append(str(json_article[\"id\"])[4:14])\n",
    "        page_.append(str(json_article[\"pp\"])[1:-1])\n",
    "        text_.append(str(json_article[\"ft\"]))\n"
   ]
  },
  {
   "cell_type": "markdown",
   "metadata": {},
   "source": [
    "# Create a pandas DataFrame"
   ]
  },
  {
   "cell_type": "code",
   "execution_count": 6,
   "metadata": {},
   "outputs": [],
   "source": [
    "df = pd.DataFrame.from_dict(\n",
    "    {\n",
    "        'journal': journal_,\n",
    "        'date': date_,\n",
    "        'page': page_,\n",
    "        'text': text_\n",
    "    })"
   ]
  },
  {
   "cell_type": "code",
   "execution_count": 7,
   "metadata": {},
   "outputs": [
    {
     "data": {
      "text/html": [
       "<div>\n",
       "<style scoped>\n",
       "    .dataframe tbody tr th:only-of-type {\n",
       "        vertical-align: middle;\n",
       "    }\n",
       "\n",
       "    .dataframe tbody tr th {\n",
       "        vertical-align: top;\n",
       "    }\n",
       "\n",
       "    .dataframe thead th {\n",
       "        text-align: right;\n",
       "    }\n",
       "</style>\n",
       "<table border=\"1\" class=\"dataframe\">\n",
       "  <thead>\n",
       "    <tr style=\"text-align: right;\">\n",
       "      <th></th>\n",
       "      <th>journal</th>\n",
       "      <th>date</th>\n",
       "      <th>page</th>\n",
       "      <th>text</th>\n",
       "    </tr>\n",
       "  </thead>\n",
       "  <tbody>\n",
       "    <tr>\n",
       "      <th>0</th>\n",
       "      <td>JDG</td>\n",
       "      <td>1978-12-29</td>\n",
       "      <td>1</td>\n",
       "      <td>Algérie : l'arbitrage sans arbitre Pour un Eta...</td>\n",
       "    </tr>\n",
       "    <tr>\n",
       "      <th>1</th>\n",
       "      <td>JDG</td>\n",
       "      <td>1978-12-29</td>\n",
       "      <td>3</td>\n",
       "      <td>ALORS QUE LA FOULE ENTERRE SES DERNIERES VICTI...</td>\n",
       "    </tr>\n",
       "    <tr>\n",
       "      <th>2</th>\n",
       "      <td>JDG</td>\n",
       "      <td>1978-12-29</td>\n",
       "      <td>4</td>\n",
       "      <td>NEW COTÉES EN SUISSE 27 28 aboott Labor aetnft...</td>\n",
       "    </tr>\n",
       "    <tr>\n",
       "      <th>3</th>\n",
       "      <td>JDG</td>\n",
       "      <td>1978-12-29</td>\n",
       "      <td>5</td>\n",
       "      <td>Hôtellerie suisse : baisse des nuitées Berne, ...</td>\n",
       "    </tr>\n",
       "    <tr>\n",
       "      <th>4</th>\n",
       "      <td>JDG</td>\n",
       "      <td>1978-12-29</td>\n",
       "      <td>6</td>\n",
       "      <td>Les prix ne monteront pas en 1979 Un Suisse su...</td>\n",
       "    </tr>\n",
       "  </tbody>\n",
       "</table>\n",
       "</div>"
      ],
      "text/plain": [
       "  journal        date page                                               text\n",
       "0     JDG  1978-12-29    1  Algérie : l'arbitrage sans arbitre Pour un Eta...\n",
       "1     JDG  1978-12-29    3  ALORS QUE LA FOULE ENTERRE SES DERNIERES VICTI...\n",
       "2     JDG  1978-12-29    4  NEW COTÉES EN SUISSE 27 28 aboott Labor aetnft...\n",
       "3     JDG  1978-12-29    5  Hôtellerie suisse : baisse des nuitées Berne, ...\n",
       "4     JDG  1978-12-29    6  Les prix ne monteront pas en 1979 Un Suisse su..."
      ]
     },
     "execution_count": 7,
     "metadata": {},
     "output_type": "execute_result"
    }
   ],
   "source": [
    "df.head()"
   ]
  },
  {
   "cell_type": "code",
   "execution_count": 64,
   "metadata": {},
   "outputs": [
    {
     "data": {
      "text/plain": [
       "454898"
      ]
     },
     "execution_count": 64,
     "metadata": {},
     "output_type": "execute_result"
    }
   ],
   "source": [
    "len(df)"
   ]
  },
  {
   "cell_type": "markdown",
   "metadata": {},
   "source": [
    "# Clean and enrich the DataFrame "
   ]
  },
  {
   "cell_type": "code",
   "execution_count": 17,
   "metadata": {},
   "outputs": [],
   "source": [
    "def measure_articles(df):\n",
    "    \n",
    "    lengths = []\n",
    "    \n",
    "    for ind, row in df.iterrows():\n",
    "        lengths.append(len(row['text']))\n",
    "        \n",
    "    return lengths\n",
    "\n",
    "df['length'] = measure_articles(df)"
   ]
  },
  {
   "cell_type": "code",
   "execution_count": 23,
   "metadata": {},
   "outputs": [],
   "source": [
    "def handle_multiple_pages(df):\n",
    "    \n",
    "    page, ppage = [], []\n",
    "    \n",
    "    for ind, row in df.iterrows():\n",
    "        \n",
    "        found = re.findall('([0-9]+)', row['page'])\n",
    "        if len(found) > 1:\n",
    "            page.append(found[0])\n",
    "            ppage.append(found[1])\n",
    "        else:\n",
    "            page.append(row['page'])\n",
    "            ppage.append(np.nan)\n",
    "        \n",
    "    return page, ppage\n",
    "    \n",
    "page, ppage = handle_multiple_pages(df)\n",
    "df['page'] = page\n",
    "df['ppage'] = ppage"
   ]
  },
  {
   "cell_type": "code",
   "execution_count": 24,
   "metadata": {},
   "outputs": [
    {
     "data": {
      "text/html": [
       "<div>\n",
       "<style scoped>\n",
       "    .dataframe tbody tr th:only-of-type {\n",
       "        vertical-align: middle;\n",
       "    }\n",
       "\n",
       "    .dataframe tbody tr th {\n",
       "        vertical-align: top;\n",
       "    }\n",
       "\n",
       "    .dataframe thead th {\n",
       "        text-align: right;\n",
       "    }\n",
       "</style>\n",
       "<table border=\"1\" class=\"dataframe\">\n",
       "  <thead>\n",
       "    <tr style=\"text-align: right;\">\n",
       "      <th></th>\n",
       "      <th>journal</th>\n",
       "      <th>date</th>\n",
       "      <th>page</th>\n",
       "      <th>text</th>\n",
       "      <th>length</th>\n",
       "      <th>ppage</th>\n",
       "    </tr>\n",
       "  </thead>\n",
       "  <tbody>\n",
       "    <tr>\n",
       "      <th>0</th>\n",
       "      <td>JDG</td>\n",
       "      <td>1978-12-29</td>\n",
       "      <td>1</td>\n",
       "      <td>Algérie : l'arbitrage sans arbitre Pour un Eta...</td>\n",
       "      <td>3777</td>\n",
       "      <td>NaN</td>\n",
       "    </tr>\n",
       "    <tr>\n",
       "      <th>1</th>\n",
       "      <td>JDG</td>\n",
       "      <td>1978-12-29</td>\n",
       "      <td>3</td>\n",
       "      <td>ALORS QUE LA FOULE ENTERRE SES DERNIERES VICTI...</td>\n",
       "      <td>3401</td>\n",
       "      <td>NaN</td>\n",
       "    </tr>\n",
       "    <tr>\n",
       "      <th>2</th>\n",
       "      <td>JDG</td>\n",
       "      <td>1978-12-29</td>\n",
       "      <td>4</td>\n",
       "      <td>NEW COTÉES EN SUISSE 27 28 aboott Labor aetnft...</td>\n",
       "      <td>36446</td>\n",
       "      <td>NaN</td>\n",
       "    </tr>\n",
       "    <tr>\n",
       "      <th>3</th>\n",
       "      <td>JDG</td>\n",
       "      <td>1978-12-29</td>\n",
       "      <td>5</td>\n",
       "      <td>Hôtellerie suisse : baisse des nuitées Berne, ...</td>\n",
       "      <td>807</td>\n",
       "      <td>NaN</td>\n",
       "    </tr>\n",
       "    <tr>\n",
       "      <th>4</th>\n",
       "      <td>JDG</td>\n",
       "      <td>1978-12-29</td>\n",
       "      <td>6</td>\n",
       "      <td>Les prix ne monteront pas en 1979 Un Suisse su...</td>\n",
       "      <td>2934</td>\n",
       "      <td>NaN</td>\n",
       "    </tr>\n",
       "  </tbody>\n",
       "</table>\n",
       "</div>"
      ],
      "text/plain": [
       "  journal        date page                                               text  \\\n",
       "0     JDG  1978-12-29    1  Algérie : l'arbitrage sans arbitre Pour un Eta...   \n",
       "1     JDG  1978-12-29    3  ALORS QUE LA FOULE ENTERRE SES DERNIERES VICTI...   \n",
       "2     JDG  1978-12-29    4  NEW COTÉES EN SUISSE 27 28 aboott Labor aetnft...   \n",
       "3     JDG  1978-12-29    5  Hôtellerie suisse : baisse des nuitées Berne, ...   \n",
       "4     JDG  1978-12-29    6  Les prix ne monteront pas en 1979 Un Suisse su...   \n",
       "\n",
       "   length ppage  \n",
       "0    3777   NaN  \n",
       "1    3401   NaN  \n",
       "2   36446   NaN  \n",
       "3     807   NaN  \n",
       "4    2934   NaN  "
      ]
     },
     "execution_count": 24,
     "metadata": {},
     "output_type": "execute_result"
    }
   ],
   "source": [
    "df.head()"
   ]
  },
  {
   "cell_type": "code",
   "execution_count": 36,
   "metadata": {},
   "outputs": [],
   "source": [
    "# Jeter les articles vides ou ne contenant que quelques caractères (p.ex titre des rubriques)\n",
    "df = df[df['length'] > 50]"
   ]
  },
  {
   "cell_type": "code",
   "execution_count": 37,
   "metadata": {},
   "outputs": [],
   "source": [
    "# Sauvegarder l'index\n",
    "df['id'] = df.index"
   ]
  },
  {
   "cell_type": "code",
   "execution_count": 59,
   "metadata": {},
   "outputs": [],
   "source": [
    "# Formater les types\n",
    "df['date'] = pd.to_datetime(df['date'])\n",
    "df['journal'] = df['journal'].astype('category')\n",
    "df['page'] = df['page'].astype('float')\n",
    "df['ppage'] = df['ppage'].astype('float')\n",
    "df['text'] = df['text'].astype('str')"
   ]
  },
  {
   "cell_type": "code",
   "execution_count": 67,
   "metadata": {},
   "outputs": [],
   "source": [
    "df = df[['id', 'journal', 'date', 'page', 'ppage', 'text', 'length']]"
   ]
  },
  {
   "cell_type": "code",
   "execution_count": 69,
   "metadata": {},
   "outputs": [],
   "source": [
    "df.to_json('cleaned.json.bz2', compression = 'bz2')"
   ]
  },
  {
   "cell_type": "code",
   "execution_count": 71,
   "metadata": {},
   "outputs": [],
   "source": [
    "df_lengths = df['length'].value_counts()"
   ]
  },
  {
   "cell_type": "code",
   "execution_count": null,
   "metadata": {},
   "outputs": [],
   "source": [
    "def check_for_duplicates(df):\n",
    "    \n",
    "    identical_texts = []\n",
    "    \n",
    "    for ind1, row1 in df.iterrows():\n",
    "        for ind2, row2 in df.iterrows():\n",
    "            \n",
    "            if row1['length'] == row2['length']:"
   ]
  },
  {
   "cell_type": "code",
   "execution_count": 37,
   "metadata": {},
   "outputs": [],
   "source": [
    "def compare_texts(txt1, txt2):\n",
    "    \n",
    "    identical = False\n",
    "    recover = 0\n",
    "        \n",
    "    ### First step is a rough assessment ###\n",
    "    \n",
    "    text1 = txt1.split(' ')\n",
    "    text2 = txt2.split(' ')\n",
    "    \n",
    "    if (len(text1) > 40) and (len(text2) > 40):\n",
    "        text1, text2 = text1[20:40], text2[20:40]\n",
    "        \n",
    "    elif (len(text1) > 20) and (len(text2) > 20):   \n",
    "        text1, text2 = text1[:20], text2[:20]\n",
    "        \n",
    "    else:\n",
    "        min_ = min(len(text1), len(text2))\n",
    "        text1, text2 = text1[:min_], text2[:min_]\n",
    "        \n",
    "    if set(text1) == set(text2):\n",
    "        return True\n",
    "    \n",
    "    differentials = np.nan\n",
    "    grade = 0\n",
    "    \n",
    "    # estimate identity \n",
    "    for i in range(len(text1)):\n",
    "        for j in range(len(text2)):\n",
    "            if text1[i] == text2[j]:\n",
    "                grade += 1\n",
    "                differentials.append = (j - i)\n",
    "    \n",
    "    _ = np.unique(differentials, return_counts = True)\n",
    "    \n",
    "    if len(_) == 0:\n",
    "        return False\n",
    "    \n",
    "    differential = _[0].tolist()[np.argmax(_[1].tolist())]\n",
    "    \n",
    "    ### Second step is a finer assessment ###\n",
    "    if (grade >= 10) and (np.argmax(_[1].tolist()) >= 10): \n",
    "        return True\n",
    "    \n",
    "    else:\n",
    "        return False\n",
    "    \n",
    "    "
   ]
  },
  {
   "cell_type": "code",
   "execution_count": null,
   "metadata": {},
   "outputs": [],
   "source": []
  }
 ],
 "metadata": {
  "kernelspec": {
   "display_name": "Python 3",
   "language": "python",
   "name": "python3"
  },
  "language_info": {
   "codemirror_mode": {
    "name": "ipython",
    "version": 3
   },
   "file_extension": ".py",
   "mimetype": "text/x-python",
   "name": "python",
   "nbconvert_exporter": "python",
   "pygments_lexer": "ipython3",
   "version": "3.6.5"
  }
 },
 "nbformat": 4,
 "nbformat_minor": 2
}
