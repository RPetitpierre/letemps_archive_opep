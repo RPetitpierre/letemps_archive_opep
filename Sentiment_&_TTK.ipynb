{
 "cells": [
  {
   "cell_type": "markdown",
   "metadata": {},
   "source": [
    "# Imports & Loading corpus"
   ]
  },
  {
   "cell_type": "code",
   "execution_count": 2,
   "metadata": {},
   "outputs": [],
   "source": [
    "import json\n",
    "import bz2\n",
    "import re\n",
    "from bz2 import BZ2File\n",
    "import pandas as pd\n",
    "import numpy as np\n",
    "\n",
    "%matplotlib inline\n",
    "import matplotlib\n",
    "import matplotlib.colors\n",
    "import matplotlib.pyplot as plt\n",
    "\n",
    "import seaborn as sns\n",
    "sns.set_context('notebook')\n",
    "sns.set(rc = {'figure.figsize':(10,7)})"
   ]
  },
  {
   "cell_type": "code",
   "execution_count": 3,
   "metadata": {},
   "outputs": [],
   "source": [
    "df_corpus = pd.read_json('corpus.json.bz2', compression = 'bz2')\n",
    "df_corpus_OPEP = pd.read_json('corpus_OPEP.json.bz2', compression = 'bz2')\n",
    "df_corpus_petrole = pd.read_json('corpus_petrole.json.bz2', compression = 'bz2')\n",
    "df_corpus_compagnies = pd.read_json('corpus_compagnies.json.bz2', compression = 'bz2')\n",
    "df_depeches = pd.read_json('corpus_depeches.json.bz2', compression = 'bz2')\n",
    "df_not_depeches = pd.read_json('corpus_not_depeches.json.bz2', compression = 'bz2')"
   ]
  },
  {
   "cell_type": "code",
   "execution_count": 4,
   "metadata": {},
   "outputs": [],
   "source": [
    "df_corpus['journal'] = df_corpus['journal'].astype('category')\n",
    "df_corpus_OPEP['journal'] = df_corpus_OPEP['journal'].astype('category')\n",
    "df_corpus_petrole['journal'] = df_corpus_petrole['journal'].astype('category')\n",
    "df_corpus_compagnies['journal'] = df_corpus_compagnies['journal'].astype('category')\n",
    "\n",
    "df_corpus.index = np.arange(len(df_corpus))\n",
    "df_corpus_OPEP.index = np.arange(len(df_corpus_OPEP))\n",
    "df_corpus_petrole.index = np.arange(len(df_corpus_petrole))\n",
    "df_corpus_compagnies.index = np.arange(len(df_corpus_compagnies))"
   ]
  },
  {
   "cell_type": "code",
   "execution_count": 5,
   "metadata": {},
   "outputs": [],
   "source": [
    "df_total = pd.read_json('total.json.bz2', compression = 'bz2')\n",
    "df_total['journal'] = df_total['journal'].astype('category')\n",
    "df_total.index = np.arange(len(df_total))"
   ]
  },
  {
   "cell_type": "markdown",
   "metadata": {},
   "source": [
    "# Type-token ratio"
   ]
  },
  {
   "cell_type": "code",
   "execution_count": 6,
   "metadata": {},
   "outputs": [],
   "source": [
    "def count_words(text):\n",
    "    ''' Returns the word (i.e. type) count for a given text.\n",
    "    \n",
    "    Input:\n",
    "        text(str)\n",
    "    \n",
    "    Output:\n",
    "        count_words(pandas DataFrame): return the count for each word\n",
    "    '''\n",
    "        \n",
    "    words = re.split('[\\s\\.,·:;\\'—«»*]', text)\n",
    "    count_words = pd.Series(words).value_counts()\n",
    "    \n",
    "    count_words = pd.DataFrame(count_words).rename(columns = {0:'count'})\n",
    "    \n",
    "    length = []\n",
    "    \n",
    "    for word in count_words.index:\n",
    "        length.append(len(word))\n",
    "        \n",
    "    count_words['length'] = length\n",
    "    \n",
    "    return count_words"
   ]
  },
  {
   "cell_type": "code",
   "execution_count": 67,
   "metadata": {},
   "outputs": [],
   "source": [
    "def type_token_ratio(text, n_sample = 100, tokens = 1000):\n",
    "    ''' Compute the type-token ratio (TTK) of a text, on n samples of same token length.\n",
    "    \n",
    "    Inputs:\n",
    "        text(str): text/corpus\n",
    "        n_sample(int): number of repeated measures\n",
    "        tokens(int): number of tokens (words) of each TTK measure\n",
    "    \n",
    "    Output:\n",
    "        type_token_ratio(list<float>): list of the TTK measures\n",
    "    '''\n",
    "    \n",
    "    words_ = re.split('[\\s\\.,·:;\\'—«»*]', str(text))\n",
    "    words, type_token_ratio = [], []\n",
    "    \n",
    "    for word_ in words_:\n",
    "        if word_ != '':\n",
    "            words.append(word_)\n",
    "        \n",
    "    distribution = np.random.uniform(0, len(words) - tokens, n_sample).astype('int')\n",
    "    \n",
    "    for random in distribution :\n",
    "        \n",
    "        range_ = words[random:random + tokens]\n",
    "        \n",
    "        sample = ''\n",
    "        for word in range_:\n",
    "            sample += word + ' '\n",
    "        \n",
    "        type_ = len(count_words(sample)) - 1\n",
    "        type_token_ratio.append(type_ / tokens)\n",
    "        \n",
    "    return type_token_ratio\n",
    "    "
   ]
  },
  {
   "cell_type": "markdown",
   "metadata": {},
   "source": [
    "Create sub-corpora with annual granularity"
   ]
  },
  {
   "cell_type": "code",
   "execution_count": 15,
   "metadata": {},
   "outputs": [],
   "source": [
    "corpus_text = ''\n",
    "\n",
    "for ind, row in df_corpus.iterrows():\n",
    "    corpus_text += row['text']"
   ]
  },
  {
   "cell_type": "code",
   "execution_count": 16,
   "metadata": {},
   "outputs": [
    {
     "data": {
      "text/plain": [
       "68571621"
      ]
     },
     "execution_count": 16,
     "metadata": {},
     "output_type": "execute_result"
    }
   ],
   "source": [
    "len(corpus_text)"
   ]
  },
  {
   "cell_type": "code",
   "execution_count": 17,
   "metadata": {},
   "outputs": [],
   "source": [
    "total_text = ''\n",
    "\n",
    "for ind, row in df_total.iterrows():\n",
    "    total_text += row['text']"
   ]
  },
  {
   "cell_type": "code",
   "execution_count": 18,
   "metadata": {},
   "outputs": [
    {
     "data": {
      "text/plain": [
       "1005319864"
      ]
     },
     "execution_count": 18,
     "metadata": {},
     "output_type": "execute_result"
    }
   ],
   "source": [
    "len(total_text)"
   ]
  },
  {
   "cell_type": "code",
   "execution_count": 73,
   "metadata": {},
   "outputs": [],
   "source": [
    "distribution = np.random.uniform(0, len(total_text) - 50000, 1000).astype('int')\n",
    "total_text_sample = ''\n",
    "\n",
    "for i in distribution :\n",
    "    total_text_sample += total_text[i:i+50000] + ' '"
   ]
  },
  {
   "cell_type": "code",
   "execution_count": 74,
   "metadata": {},
   "outputs": [
    {
     "data": {
      "text/plain": [
       "50001000"
      ]
     },
     "execution_count": 74,
     "metadata": {},
     "output_type": "execute_result"
    }
   ],
   "source": [
    "len(total_text_sample)"
   ]
  },
  {
   "cell_type": "code",
   "execution_count": 84,
   "metadata": {},
   "outputs": [],
   "source": [
    "TTR_corpus = type_token_ratio(corpus_text, n_sample = 1000, tokens = 250)\n",
    "TTR_total = type_token_ratio(total_text_sample, n_sample = 1000, tokens = 250)"
   ]
  },
  {
   "cell_type": "code",
   "execution_count": 85,
   "metadata": {},
   "outputs": [],
   "source": [
    "sns.set(rc={'figure.figsize':(12,8)})\n",
    "sns.set_style(\"ticks\")"
   ]
  },
  {
   "cell_type": "code",
   "execution_count": 86,
   "metadata": {},
   "outputs": [
    {
     "data": {
      "image/png": "[encoded data removed]",
      "text/plain": [
       "<Figure size 864x576 with 1 Axes>"
      ]
     },
     "metadata": {},
     "output_type": "display_data"
    }
   ],
   "source": [
    "plt.boxplot([TTR_corpus, TTR_total], notch = True);\n",
    "\n",
    "plt.xticks([1,2], np.array(['Corpus', 'Total archive']))\n",
    "plt.ylabel('TTR');\n",
    "plt.ylim((0.45,0.85))\n",
    "plt.title('Type Token Ratio Corpus vs Total archive');\n",
    "plt.show()"
   ]
  },
  {
   "cell_type": "code",
   "execution_count": 10,
   "metadata": {},
   "outputs": [
    {
     "name": "stderr",
     "output_type": "stream",
     "text": [
      "/anaconda3/lib/python3.6/site-packages/ipykernel_launcher.py:4: SettingWithCopyWarning: \n",
      "A value is trying to be set on a copy of a slice from a DataFrame\n",
      "\n",
      "See the caveats in the documentation: http://pandas.pydata.org/pandas-docs/stable/indexing.html#indexing-view-versus-copy\n",
      "  after removing the cwd from sys.path.\n"
     ]
    }
   ],
   "source": [
    "df_corpus['year'] = 0\n",
    "\n",
    "for ind, row in df_corpus.iterrows():\n",
    "    df_corpus['year'][ind] = row['date'].year"
   ]
  },
  {
   "cell_type": "code",
   "execution_count": 16,
   "metadata": {},
   "outputs": [],
   "source": [
    "years = df_corpus['year'].value_counts().index.sort_values(ascending = True)"
   ]
  },
  {
   "cell_type": "code",
   "execution_count": null,
   "metadata": {},
   "outputs": [],
   "source": []
  }
 ],
 "metadata": {
  "kernelspec": {
   "display_name": "Python 3",
   "language": "python",
   "name": "python3"
  },
  "language_info": {
   "codemirror_mode": {
    "name": "ipython",
    "version": 3
   },
   "file_extension": ".py",
   "mimetype": "text/x-python",
   "name": "python",
   "nbconvert_exporter": "python",
   "pygments_lexer": "ipython3",
   "version": "3.6.5"
  }
 },
 "nbformat": 4,
 "nbformat_minor": 2
}
