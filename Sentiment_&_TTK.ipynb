{
 "cells": [
  {
   "cell_type": "markdown",
   "metadata": {},
   "source": [
    "# Imports & Loading corpus"
   ]
  },
  {
   "cell_type": "code",
   "execution_count": 30,
   "metadata": {},
   "outputs": [],
   "source": [
    "import json\n",
    "import bz2\n",
    "import re\n",
    "from bz2 import BZ2File\n",
    "import pandas as pd\n",
    "import numpy as np\n",
    "\n",
    "%matplotlib inline\n",
    "import matplotlib\n",
    "import matplotlib.colors\n",
    "import matplotlib.pyplot as plt\n",
    "\n",
    "from textblob import TextBlob\n",
    "from textblob_fr import PatternTagger, PatternAnalyzer\n",
    "\n",
    "import seaborn as sns\n",
    "sns.set_context('notebook')\n",
    "sns.set(rc = {'figure.figsize':(10,7)})"
   ]
  },
  {
   "cell_type": "code",
   "execution_count": 3,
   "metadata": {},
   "outputs": [],
   "source": [
    "df_corpus = pd.read_json('corpus.json.bz2', compression = 'bz2')\n",
    "df_corpus_OPEP = pd.read_json('corpus_OPEP.json.bz2', compression = 'bz2')\n",
    "df_corpus_petrole = pd.read_json('corpus_petrole.json.bz2', compression = 'bz2')\n",
    "df_corpus_compagnies = pd.read_json('corpus_compagnies.json.bz2', compression = 'bz2')\n",
    "df_depeches = pd.read_json('corpus_depeches.json.bz2', compression = 'bz2')\n",
    "df_not_depeches = pd.read_json('corpus_not_depeches.json.bz2', compression = 'bz2')"
   ]
  },
  {
   "cell_type": "code",
   "execution_count": 4,
   "metadata": {},
   "outputs": [],
   "source": [
    "df_corpus['journal'] = df_corpus['journal'].astype('category')\n",
    "df_corpus_OPEP['journal'] = df_corpus_OPEP['journal'].astype('category')\n",
    "df_corpus_petrole['journal'] = df_corpus_petrole['journal'].astype('category')\n",
    "df_corpus_compagnies['journal'] = df_corpus_compagnies['journal'].astype('category')\n",
    "\n",
    "df_corpus.index = np.arange(len(df_corpus))\n",
    "df_corpus_OPEP.index = np.arange(len(df_corpus_OPEP))\n",
    "df_corpus_petrole.index = np.arange(len(df_corpus_petrole))\n",
    "df_corpus_compagnies.index = np.arange(len(df_corpus_compagnies))"
   ]
  },
  {
   "cell_type": "code",
   "execution_count": 5,
   "metadata": {},
   "outputs": [],
   "source": [
    "df_total = pd.read_json('total.json.bz2', compression = 'bz2')\n",
    "df_total['journal'] = df_total['journal'].astype('category')\n",
    "df_total.index = np.arange(len(df_total))"
   ]
  },
  {
   "cell_type": "code",
   "execution_count": 6,
   "metadata": {},
   "outputs": [
    {
     "data": {
      "text/html": [
       "<div>\n",
       "<style scoped>\n",
       "    .dataframe tbody tr th:only-of-type {\n",
       "        vertical-align: middle;\n",
       "    }\n",
       "\n",
       "    .dataframe tbody tr th {\n",
       "        vertical-align: top;\n",
       "    }\n",
       "\n",
       "    .dataframe thead th {\n",
       "        text-align: right;\n",
       "    }\n",
       "</style>\n",
       "<table border=\"1\" class=\"dataframe\">\n",
       "  <thead>\n",
       "    <tr style=\"text-align: right;\">\n",
       "      <th></th>\n",
       "      <th>journal</th>\n",
       "      <th>date</th>\n",
       "      <th>page</th>\n",
       "      <th>ppage</th>\n",
       "      <th>text</th>\n",
       "      <th>length</th>\n",
       "      <th>keyword_volvo</th>\n",
       "      <th>keyword_nyse</th>\n",
       "      <th>keyword_nestlé</th>\n",
       "      <th>keyword_heineken</th>\n",
       "      <th>...</th>\n",
       "      <th>keyword_gulf oil</th>\n",
       "      <th>keyword_ats</th>\n",
       "      <th>keyword_afp</th>\n",
       "      <th>keyword_reuter</th>\n",
       "      <th>keyword_reuther</th>\n",
       "      <th>keywords_petrole</th>\n",
       "      <th>keywords_OPEP</th>\n",
       "      <th>keywords_compagnies</th>\n",
       "      <th>keywords</th>\n",
       "      <th>depeches</th>\n",
       "    </tr>\n",
       "  </thead>\n",
       "  <tbody>\n",
       "    <tr>\n",
       "      <th>0</th>\n",
       "      <td>JDG</td>\n",
       "      <td>1974-01-07</td>\n",
       "      <td>2</td>\n",
       "      <td>NaN</td>\n",
       "      <td>Pétrole : \" (déjà 50000 la crise continue chôm...</td>\n",
       "      <td>3465</td>\n",
       "      <td>0</td>\n",
       "      <td>0</td>\n",
       "      <td>0</td>\n",
       "      <td>0</td>\n",
       "      <td>...</td>\n",
       "      <td>0</td>\n",
       "      <td>2</td>\n",
       "      <td>1</td>\n",
       "      <td>0</td>\n",
       "      <td>0</td>\n",
       "      <td>6</td>\n",
       "      <td>5</td>\n",
       "      <td>0</td>\n",
       "      <td>11</td>\n",
       "      <td>3</td>\n",
       "    </tr>\n",
       "    <tr>\n",
       "      <th>1</th>\n",
       "      <td>JDG</td>\n",
       "      <td>1974-01-07</td>\n",
       "      <td>2</td>\n",
       "      <td>NaN</td>\n",
       "      <td>''« Je vendrai'Le chah d Iran : de l aspirine ...</td>\n",
       "      <td>1976</td>\n",
       "      <td>0</td>\n",
       "      <td>0</td>\n",
       "      <td>0</td>\n",
       "      <td>0</td>\n",
       "      <td>...</td>\n",
       "      <td>0</td>\n",
       "      <td>0</td>\n",
       "      <td>1</td>\n",
       "      <td>0</td>\n",
       "      <td>0</td>\n",
       "      <td>7</td>\n",
       "      <td>0</td>\n",
       "      <td>0</td>\n",
       "      <td>7</td>\n",
       "      <td>1</td>\n",
       "    </tr>\n",
       "    <tr>\n",
       "      <th>2</th>\n",
       "      <td>JDG</td>\n",
       "      <td>1974-10-21</td>\n",
       "      <td>5</td>\n",
       "      <td>NaN</td>\n",
       "      <td>ETRANGER-DIAGNOSTIC Iran-Irak : un vieux confl...</td>\n",
       "      <td>2484</td>\n",
       "      <td>0</td>\n",
       "      <td>0</td>\n",
       "      <td>0</td>\n",
       "      <td>0</td>\n",
       "      <td>...</td>\n",
       "      <td>0</td>\n",
       "      <td>3</td>\n",
       "      <td>0</td>\n",
       "      <td>0</td>\n",
       "      <td>0</td>\n",
       "      <td>2</td>\n",
       "      <td>0</td>\n",
       "      <td>0</td>\n",
       "      <td>2</td>\n",
       "      <td>3</td>\n",
       "    </tr>\n",
       "    <tr>\n",
       "      <th>3</th>\n",
       "      <td>JDG</td>\n",
       "      <td>1974-08-21</td>\n",
       "      <td>9</td>\n",
       "      <td>NaN</td>\n",
       "      <td>Du nouveau sous le soleil Nous pouvons remerci...</td>\n",
       "      <td>5930</td>\n",
       "      <td>0</td>\n",
       "      <td>0</td>\n",
       "      <td>0</td>\n",
       "      <td>0</td>\n",
       "      <td>...</td>\n",
       "      <td>0</td>\n",
       "      <td>4</td>\n",
       "      <td>0</td>\n",
       "      <td>0</td>\n",
       "      <td>0</td>\n",
       "      <td>4</td>\n",
       "      <td>0</td>\n",
       "      <td>0</td>\n",
       "      <td>4</td>\n",
       "      <td>4</td>\n",
       "    </tr>\n",
       "    <tr>\n",
       "      <th>4</th>\n",
       "      <td>JDG</td>\n",
       "      <td>1974-08-28</td>\n",
       "      <td>5</td>\n",
       "      <td>NaN</td>\n",
       "      <td>Investissements étrangers aux USA : + 20 % en ...</td>\n",
       "      <td>1712</td>\n",
       "      <td>0</td>\n",
       "      <td>0</td>\n",
       "      <td>0</td>\n",
       "      <td>0</td>\n",
       "      <td>...</td>\n",
       "      <td>0</td>\n",
       "      <td>3</td>\n",
       "      <td>1</td>\n",
       "      <td>0</td>\n",
       "      <td>0</td>\n",
       "      <td>3</td>\n",
       "      <td>0</td>\n",
       "      <td>0</td>\n",
       "      <td>3</td>\n",
       "      <td>4</td>\n",
       "    </tr>\n",
       "  </tbody>\n",
       "</table>\n",
       "<p>5 rows × 39 columns</p>\n",
       "</div>"
      ],
      "text/plain": [
       "  journal       date  page  ppage  \\\n",
       "0     JDG 1974-01-07     2    NaN   \n",
       "1     JDG 1974-01-07     2    NaN   \n",
       "2     JDG 1974-10-21     5    NaN   \n",
       "3     JDG 1974-08-21     9    NaN   \n",
       "4     JDG 1974-08-28     5    NaN   \n",
       "\n",
       "                                                text  length  keyword_volvo  \\\n",
       "0  Pétrole : \" (déjà 50000 la crise continue chôm...    3465              0   \n",
       "1  ''« Je vendrai'Le chah d Iran : de l aspirine ...    1976              0   \n",
       "2  ETRANGER-DIAGNOSTIC Iran-Irak : un vieux confl...    2484              0   \n",
       "3  Du nouveau sous le soleil Nous pouvons remerci...    5930              0   \n",
       "4  Investissements étrangers aux USA : + 20 % en ...    1712              0   \n",
       "\n",
       "   keyword_nyse  keyword_nestlé  keyword_heineken    ...     keyword_gulf oil  \\\n",
       "0             0               0                 0    ...                    0   \n",
       "1             0               0                 0    ...                    0   \n",
       "2             0               0                 0    ...                    0   \n",
       "3             0               0                 0    ...                    0   \n",
       "4             0               0                 0    ...                    0   \n",
       "\n",
       "   keyword_ats  keyword_afp  keyword_reuter  keyword_reuther  \\\n",
       "0            2            1               0                0   \n",
       "1            0            1               0                0   \n",
       "2            3            0               0                0   \n",
       "3            4            0               0                0   \n",
       "4            3            1               0                0   \n",
       "\n",
       "   keywords_petrole  keywords_OPEP  keywords_compagnies  keywords  depeches  \n",
       "0                 6              5                    0        11         3  \n",
       "1                 7              0                    0         7         1  \n",
       "2                 2              0                    0         2         3  \n",
       "3                 4              0                    0         4         4  \n",
       "4                 3              0                    0         3         4  \n",
       "\n",
       "[5 rows x 39 columns]"
      ]
     },
     "execution_count": 6,
     "metadata": {},
     "output_type": "execute_result"
    }
   ],
   "source": [
    "df_corpus.head()"
   ]
  },
  {
   "cell_type": "markdown",
   "metadata": {},
   "source": [
    "# Type-token ratio analysis"
   ]
  },
  {
   "cell_type": "code",
   "execution_count": 7,
   "metadata": {},
   "outputs": [],
   "source": [
    "def count_words(text):\n",
    "    ''' Returns the word (i.e. type) count for a given text.\n",
    "    \n",
    "    Input:\n",
    "        text(str)\n",
    "    \n",
    "    Output:\n",
    "        count_words(pandas DataFrame): return the count for each word\n",
    "    '''\n",
    "        \n",
    "    words = re.split('[\\s\\.,·:;\\'—«»*]', text)\n",
    "    count_words = pd.Series(words).value_counts()\n",
    "    \n",
    "    count_words = pd.DataFrame(count_words).rename(columns = {0:'count'})\n",
    "    \n",
    "    length = []\n",
    "    \n",
    "    for word in count_words.index:\n",
    "        length.append(len(word))\n",
    "        \n",
    "    count_words['length'] = length\n",
    "    \n",
    "    return count_words"
   ]
  },
  {
   "cell_type": "code",
   "execution_count": 8,
   "metadata": {},
   "outputs": [],
   "source": [
    "def type_token_ratio(text, n_sample = 100, tokens = 1000):\n",
    "    ''' Compute the type-token ratio (TTK) of a text, on n samples of same token length.\n",
    "    \n",
    "    Inputs:\n",
    "        text(str): text/corpus\n",
    "        n_sample(int): number of repeated measures\n",
    "        tokens(int): number of tokens (words) of each TTK measure\n",
    "    \n",
    "    Output:\n",
    "        type_token_ratio(list<float>): list of the TTK measures\n",
    "    '''\n",
    "    \n",
    "    text.replace('([0-9])+', '')\n",
    "    \n",
    "    words_ = re.split('[\\s\\.,·:;\\'—«»*]', str(text))\n",
    "    words, type_token_ratio = [], []\n",
    "    \n",
    "    for word_ in words_:\n",
    "        if word_ != '':\n",
    "            words.append(word_)\n",
    "        \n",
    "    distribution = np.random.uniform(0, len(words) - tokens, n_sample).astype('int')\n",
    "    \n",
    "    for random in distribution :\n",
    "        \n",
    "        range_ = words[random:random + tokens]\n",
    "        \n",
    "        sample = ''\n",
    "        for word in range_:\n",
    "            sample += word + ' '\n",
    "        \n",
    "        type_ = len(count_words(sample)) - 1\n",
    "        type_token_ratio.append(type_ / tokens)\n",
    "        \n",
    "    return type_token_ratio\n",
    "    "
   ]
  },
  {
   "cell_type": "markdown",
   "metadata": {},
   "source": [
    "Create sub-corpora with annual granularity"
   ]
  },
  {
   "cell_type": "code",
   "execution_count": 9,
   "metadata": {},
   "outputs": [],
   "source": [
    "corpus_text = ''\n",
    "\n",
    "for ind, row in df_corpus.iterrows():\n",
    "    corpus_text += row['text']"
   ]
  },
  {
   "cell_type": "code",
   "execution_count": 10,
   "metadata": {},
   "outputs": [
    {
     "data": {
      "text/plain": [
       "68571621"
      ]
     },
     "execution_count": 10,
     "metadata": {},
     "output_type": "execute_result"
    }
   ],
   "source": [
    "len(corpus_text)"
   ]
  },
  {
   "cell_type": "code",
   "execution_count": 11,
   "metadata": {},
   "outputs": [],
   "source": [
    "total_text = ''\n",
    "\n",
    "for ind, row in df_total.iterrows():\n",
    "    total_text += row['text']"
   ]
  },
  {
   "cell_type": "code",
   "execution_count": 12,
   "metadata": {},
   "outputs": [
    {
     "data": {
      "text/plain": [
       "1005319864"
      ]
     },
     "execution_count": 12,
     "metadata": {},
     "output_type": "execute_result"
    }
   ],
   "source": [
    "len(total_text)"
   ]
  },
  {
   "cell_type": "code",
   "execution_count": 13,
   "metadata": {},
   "outputs": [],
   "source": [
    "distribution = np.random.uniform(0, len(total_text) - 50000, 1000).astype('int')\n",
    "total_text_sample = ''\n",
    "\n",
    "for i in distribution :\n",
    "    total_text_sample += total_text[i:i+50000] + ' '"
   ]
  },
  {
   "cell_type": "code",
   "execution_count": 14,
   "metadata": {},
   "outputs": [
    {
     "data": {
      "text/plain": [
       "50001000"
      ]
     },
     "execution_count": 14,
     "metadata": {},
     "output_type": "execute_result"
    }
   ],
   "source": [
    "len(total_text_sample)"
   ]
  },
  {
   "cell_type": "code",
   "execution_count": 15,
   "metadata": {},
   "outputs": [],
   "source": [
    "TTR_corpus = type_token_ratio(corpus_text, n_sample = 1000, tokens = 500)\n",
    "TTR_total = type_token_ratio(total_text_sample, n_sample = 1000, tokens = 500)"
   ]
  },
  {
   "cell_type": "code",
   "execution_count": 48,
   "metadata": {},
   "outputs": [],
   "source": [
    "sns.set(rc={'figure.figsize':(12,8)})\n",
    "sns.set_style(\"ticks\")"
   ]
  },
  {
   "cell_type": "code",
   "execution_count": 17,
   "metadata": {},
   "outputs": [
    {
     "data": {
      "image/png": "[encoded data removed]",
      "text/plain": [
       "<Figure size 864x576 with 1 Axes>"
      ]
     },
     "metadata": {},
     "output_type": "display_data"
    }
   ],
   "source": [
    "plt.boxplot([TTR_corpus, TTR_total], notch = True);\n",
    "\n",
    "plt.xticks([1,2], np.array(['Corpus', 'Total archive']))\n",
    "plt.ylabel('TTR');\n",
    "plt.ylim((0.40,0.75))\n",
    "plt.title('Type Token Ratio Corpus vs Total archive \\s');\n",
    "plt.show()"
   ]
  },
  {
   "cell_type": "code",
   "execution_count": 18,
   "metadata": {},
   "outputs": [
    {
     "name": "stderr",
     "output_type": "stream",
     "text": [
      "/anaconda3/lib/python3.6/site-packages/ipykernel_launcher.py:4: SettingWithCopyWarning: \n",
      "A value is trying to be set on a copy of a slice from a DataFrame\n",
      "\n",
      "See the caveats in the documentation: http://pandas.pydata.org/pandas-docs/stable/indexing.html#indexing-view-versus-copy\n",
      "  after removing the cwd from sys.path.\n"
     ]
    }
   ],
   "source": [
    "df_corpus['year'] = 0\n",
    "\n",
    "for ind, row in df_corpus.iterrows():\n",
    "    df_corpus['year'][ind] = row['date'].year"
   ]
  },
  {
   "cell_type": "code",
   "execution_count": 19,
   "metadata": {},
   "outputs": [],
   "source": [
    "years = df_corpus['year'].value_counts().index.sort_values(ascending = True)"
   ]
  },
  {
   "cell_type": "code",
   "execution_count": 20,
   "metadata": {},
   "outputs": [],
   "source": [
    "TTR_by_year = []\n",
    "\n",
    "for year in years:\n",
    "    df = df_corpus[df_corpus['year'] == year]\n",
    "    \n",
    "    text_year = ''\n",
    "    \n",
    "    for ind, row in df.iterrows():\n",
    "        text_year += row['text']\n",
    "        \n",
    "    TTR_by_year.append(type_token_ratio(text_year, n_sample = 1000, tokens = 500))"
   ]
  },
  {
   "cell_type": "code",
   "execution_count": 21,
   "metadata": {},
   "outputs": [
    {
     "data": {
      "text/plain": [
       "array([0, 1, 2, 3])"
      ]
     },
     "execution_count": 21,
     "metadata": {},
     "output_type": "execute_result"
    }
   ],
   "source": [
    "np.arange(4)"
   ]
  },
  {
   "cell_type": "code",
   "execution_count": 22,
   "metadata": {},
   "outputs": [
    {
     "data": {
      "image/png": "[encoded data removed]",
      "text/plain": [
       "<Figure size 864x576 with 1 Axes>"
      ]
     },
     "metadata": {},
     "output_type": "display_data"
    }
   ],
   "source": [
    "plt.boxplot(TTR_by_year, notch = True);\n",
    "\n",
    "plt.xticks(np.arange(len(TTR_by_year))+1, years)\n",
    "plt.ylabel('TTR');\n",
    "plt.ylim((0.40,0.75))\n",
    "plt.title('Type Token Ratio du corpus, par année \\n');\n",
    "plt.show()"
   ]
  },
  {
   "cell_type": "code",
   "execution_count": 23,
   "metadata": {},
   "outputs": [],
   "source": [
    "for year in years:\n",
    "    \n",
    "    df = df_corpus[df_corpus['year'] == year]\n",
    "    df.to_csv(str(year) + '_corpus.csv')"
   ]
  },
  {
   "cell_type": "code",
   "execution_count": 127,
   "metadata": {},
   "outputs": [],
   "source": [
    "pages = df_corpus['page'].value_counts().index[:5]"
   ]
  },
  {
   "cell_type": "code",
   "execution_count": 128,
   "metadata": {},
   "outputs": [],
   "source": [
    "TTR_pages = []\n",
    "\n",
    "for page in pages:\n",
    "    df = df_corpus[df_corpus['page'] == page]\n",
    "    text = ''\n",
    "    \n",
    "    for ind, row in df.iterrows():\n",
    "        text += row['text']\n",
    "        \n",
    "    TTR_pages.append(type_token_ratio(text, n_sample = 1000, tokens = 500))\n",
    "    \n",
    "    df.to_csv('corpus_page_' + str(page) + '.csv')"
   ]
  },
  {
   "cell_type": "code",
   "execution_count": 129,
   "metadata": {},
   "outputs": [
    {
     "data": {
      "image/png": "[encoded data removed]",
      "text/plain": [
       "<Figure size 1008x504 with 1 Axes>"
      ]
     },
     "metadata": {},
     "output_type": "display_data"
    }
   ],
   "source": [
    "plt.boxplot(TTR_pages, notch = True);\n",
    "\n",
    "plt.xticks(np.arange(len(TTR_pages))+1, pages)\n",
    "plt.ylabel('TTR')\n",
    "plt.xlabel('Pages (par ordre de fréquence)')\n",
    "plt.ylim((0.35,0.75))\n",
    "plt.title('Type Token Ratio du corpus par page \\n');\n",
    "plt.show()"
   ]
  },
  {
   "cell_type": "markdown",
   "metadata": {},
   "source": [
    "# Sentiment analysis"
   ]
  },
  {
   "cell_type": "code",
   "execution_count": 90,
   "metadata": {},
   "outputs": [],
   "source": [
    "distr_corpus = np.random.uniform(0, len(df_corpus) - 1, 10000).astype('int')\n",
    "\n",
    "tb_corpus = ''\n",
    "subjectivity_corpus, polarity_corpus = [], []\n",
    "\n",
    "for i in distr_corpus:\n",
    "    blob = TextBlob(df_corpus['text'][i], pos_tagger=PatternTagger(), analyzer=PatternAnalyzer()).sentiment\n",
    "    subjectivity_corpus.append(blob[0])\n",
    "    polarity_corpus.append(blob[1])"
   ]
  },
  {
   "cell_type": "code",
   "execution_count": 91,
   "metadata": {},
   "outputs": [],
   "source": [
    "distr_total = np.random.uniform(0, len(df_total) - 1, 10000).astype('int')\n",
    "\n",
    "tb_total = ''\n",
    "subjectivity_total, polarity_total = [], []\n",
    "\n",
    "for i in distr_total:\n",
    "    blob = TextBlob(df_total['text'][i], pos_tagger=PatternTagger(), analyzer=PatternAnalyzer()).sentiment\n",
    "    subjectivity_total.append(blob[0])\n",
    "    polarity_total.append(blob[1])"
   ]
  },
  {
   "cell_type": "code",
   "execution_count": 106,
   "metadata": {},
   "outputs": [],
   "source": [
    "sns.set(rc={'figure.figsize':(14,7)})\n",
    "sns.set_style(\"ticks\")"
   ]
  },
  {
   "cell_type": "code",
   "execution_count": 107,
   "metadata": {},
   "outputs": [
    {
     "data": {
      "image/png": "[encoded data removed]",
      "text/plain": [
       "<Figure size 1008x504 with 2 Axes>"
      ]
     },
     "metadata": {},
     "output_type": "display_data"
    }
   ],
   "source": [
    "f, (ax1, ax2) = plt.subplots(1, 2)\n",
    "\n",
    "ax1.bar([1, 2], [np.median(subjectivity_corpus), np.median(subjectivity_total)], color = '#7CB47D')\n",
    "ax1.boxplot([subjectivity_corpus, subjectivity_total], notch = True);\n",
    "\n",
    "ax2.bar([1, 2], [np.median(polarity_corpus), np.median(polarity_total)], color = '#BFBFBF')\n",
    "ax2.boxplot([polarity_corpus, polarity_total], notch = True);\n",
    "\n",
    "ax1.set_ylim((-0.35, 0.35))\n",
    "ax2.set_ylim((0, 0.5))\n",
    "\n",
    "ax1.set_ylabel('Subjectivité (-1, 1)')\n",
    "ax2.set_ylabel('Polarité (0, 1)')\n",
    "\n",
    "ax1.set_xticklabels(['Corpus', 'Total de l\\'archive'])\n",
    "ax2.set_xticklabels(['Corpus', 'Total de l\\'archive'])\n",
    "\n",
    "plt.show();"
   ]
  },
  {
   "cell_type": "code",
   "execution_count": 113,
   "metadata": {},
   "outputs": [],
   "source": [
    "subjectivity, polarity = [], []\n",
    "median_subj, median_pol = [], []\n",
    "\n",
    "for year in years:\n",
    "    distribution = np.random.uniform(0, len(df_corpus[df_corpus['year'] == year]) - 1, 1000).astype('int')\n",
    "    \n",
    "    subjectivity_, polarity_ = [], []\n",
    "\n",
    "    for i in distribution:\n",
    "        blob = TextBlob(df_corpus['text'][i], pos_tagger=PatternTagger(), analyzer=PatternAnalyzer()).sentiment\n",
    "        subjectivity_.append(blob[0])\n",
    "        polarity_.append(blob[1])\n",
    "        \n",
    "    subjectivity.append(subjectivity_)\n",
    "    polarity.append(polarity_)\n",
    "    median_subj.append(np.median(subjectivity_))\n",
    "    median_pol.append(np.median(polarity_))"
   ]
  },
  {
   "cell_type": "code",
   "execution_count": 115,
   "metadata": {},
   "outputs": [
    {
     "data": {
      "image/png": "[encoded data removed]",
      "text/plain": [
       "<Figure size 1008x504 with 2 Axes>"
      ]
     },
     "metadata": {},
     "output_type": "display_data"
    }
   ],
   "source": [
    "f, (ax1, ax2) = plt.subplots(1, 2)\n",
    "\n",
    "ax1.bar(np.arange(len(years))+1, median_subj, color = '#7CB47D')\n",
    "ax1.boxplot(subjectivity, notch = True);\n",
    "\n",
    "ax2.bar(np.arange(len(years))+1, median_pol, color = '#BFBFBF')\n",
    "ax2.boxplot(polarity, notch = True);\n",
    "\n",
    "ax1.set_ylim((-0.35, 0.35))\n",
    "ax2.set_ylim((0, 0.5))\n",
    "\n",
    "ax1.set_ylabel('Subjectivité (-1, 1)')\n",
    "ax2.set_ylabel('Polarité (0, 1)')\n",
    "\n",
    "ax1.set_xlabel('Années')\n",
    "ax2.set_xlabel('Années')\n",
    "\n",
    "ax1.set_xticklabels(years)\n",
    "ax2.set_xticklabels(years)\n",
    "\n",
    "plt.show();"
   ]
  },
  {
   "cell_type": "code",
   "execution_count": 130,
   "metadata": {},
   "outputs": [],
   "source": [
    "subjectivity, polarity = [], []\n",
    "median_subj, median_pol = [], []\n",
    "\n",
    "for page in pages:\n",
    "    distribution = np.random.uniform(0, len(df_corpus[df_corpus['page'] == page]) - 1, 1000).astype('int')\n",
    "    \n",
    "    subjectivity_, polarity_ = [], []\n",
    "\n",
    "    for i in distribution:\n",
    "        blob = TextBlob(df_corpus['text'][i], pos_tagger=PatternTagger(), analyzer=PatternAnalyzer()).sentiment\n",
    "        subjectivity_.append(blob[0])\n",
    "        polarity_.append(blob[1])\n",
    "        \n",
    "    subjectivity.append(subjectivity_)\n",
    "    polarity.append(polarity_)\n",
    "    median_subj.append(np.median(subjectivity_))\n",
    "    median_pol.append(np.median(polarity_))"
   ]
  },
  {
   "cell_type": "code",
   "execution_count": 131,
   "metadata": {},
   "outputs": [
    {
     "data": {
      "image/png": "[encoded data removed]",
      "text/plain": [
       "<Figure size 1008x504 with 2 Axes>"
      ]
     },
     "metadata": {},
     "output_type": "display_data"
    }
   ],
   "source": [
    "f, (ax1, ax2) = plt.subplots(1, 2)\n",
    "\n",
    "ax1.bar(np.arange(len(pages))+1, median_subj, color = '#7CB47D')\n",
    "ax1.boxplot(subjectivity, notch = True);\n",
    "\n",
    "ax2.bar(np.arange(len(pages))+1, median_pol, color = '#BFBFBF')\n",
    "ax2.boxplot(polarity, notch = True);\n",
    "\n",
    "ax1.set_ylim((-0.35, 0.35))\n",
    "ax2.set_ylim((0, 0.5))\n",
    "\n",
    "ax1.set_ylabel('Subjectivité (-1, 1)')\n",
    "ax2.set_ylabel('Polarité (0, 1)')\n",
    "\n",
    "ax1.set_xlabel('Pages')\n",
    "ax2.set_xlabel('Pages')\n",
    "\n",
    "ax1.set_xticklabels(pages)\n",
    "ax2.set_xticklabels(pages)\n",
    "\n",
    "plt.show();"
   ]
  },
  {
   "cell_type": "code",
   "execution_count": null,
   "metadata": {},
   "outputs": [],
   "source": []
  },
  {
   "cell_type": "code",
   "execution_count": null,
   "metadata": {},
   "outputs": [],
   "source": []
  },
  {
   "cell_type": "code",
   "execution_count": null,
   "metadata": {},
   "outputs": [],
   "source": []
  }
 ],
 "metadata": {
  "kernelspec": {
   "display_name": "Python 3",
   "language": "python",
   "name": "python3"
  },
  "language_info": {
   "codemirror_mode": {
    "name": "ipython",
    "version": 3
   },
   "file_extension": ".py",
   "mimetype": "text/x-python",
   "name": "python",
   "nbconvert_exporter": "python",
   "pygments_lexer": "ipython3",
   "version": "3.6.5"
  }
 },
 "nbformat": 4,
 "nbformat_minor": 2
}
