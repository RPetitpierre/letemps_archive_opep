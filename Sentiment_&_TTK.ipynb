{
 "cells": [
  {
   "cell_type": "markdown",
   "metadata": {},
   "source": [
    "# Imports & Loading corpus"
   ]
  },
  {
   "cell_type": "code",
   "execution_count": 1,
   "metadata": {},
   "outputs": [],
   "source": [
    "import json\n",
    "import bz2\n",
    "import re\n",
    "from bz2 import BZ2File\n",
    "import pandas as pd\n",
    "import numpy as np\n",
    "\n",
    "%matplotlib inline\n",
    "import matplotlib\n",
    "import matplotlib.colors\n",
    "import matplotlib.pyplot as plt\n",
    "\n",
    "import seaborn as sns\n",
    "sns.set_context('notebook')\n",
    "sns.set(rc = {'figure.figsize':(10,7)})"
   ]
  },
  {
   "cell_type": "code",
   "execution_count": 2,
   "metadata": {},
   "outputs": [],
   "source": [
    "df_corpus = pd.read_json('corpus.json.bz2', compression = 'bz2')\n",
    "df_corpus_OPEP = pd.read_json('corpus_OPEP.json.bz2', compression = 'bz2')\n",
    "df_corpus_petrole = pd.read_json('corpus_petrole.json.bz2', compression = 'bz2')\n",
    "df_corpus_compagnies = pd.read_json('corpus_compagnies.json.bz2', compression = 'bz2')\n",
    "df_depeches = pd.read_json('corpus_depeches.json.bz2', compression = 'bz2')\n",
    "df_not_depeches = pd.read_json('corpus_not_depeches.json.bz2', compression = 'bz2')"
   ]
  },
  {
   "cell_type": "code",
   "execution_count": 3,
   "metadata": {},
   "outputs": [],
   "source": [
    "df_corpus['journal'] = df_corpus['journal'].astype('category')\n",
    "df_corpus_OPEP['journal'] = df_corpus_OPEP['journal'].astype('category')\n",
    "df_corpus_petrole['journal'] = df_corpus_petrole['journal'].astype('category')\n",
    "df_corpus_compagnies['journal'] = df_corpus_compagnies['journal'].astype('category')\n",
    "\n",
    "df_corpus.index = np.arange(len(df_corpus))\n",
    "df_corpus_OPEP.index = np.arange(len(df_corpus_OPEP))\n",
    "df_corpus_petrole.index = np.arange(len(df_corpus_petrole))\n",
    "df_corpus_compagnies.index = np.arange(len(df_corpus_compagnies))"
   ]
  },
  {
   "cell_type": "code",
   "execution_count": 4,
   "metadata": {},
   "outputs": [],
   "source": [
    "df_total = pd.read_json('total.json.bz2', compression = 'bz2')\n",
    "df_total['journal'] = df_total['journal'].astype('category')\n",
    "df_total.index = np.arange(len(df_total))"
   ]
  },
  {
   "cell_type": "code",
   "execution_count": 32,
   "metadata": {},
   "outputs": [
    {
     "data": {
      "text/html": [
       "<div>\n",
       "<style scoped>\n",
       "    .dataframe tbody tr th:only-of-type {\n",
       "        vertical-align: middle;\n",
       "    }\n",
       "\n",
       "    .dataframe tbody tr th {\n",
       "        vertical-align: top;\n",
       "    }\n",
       "\n",
       "    .dataframe thead th {\n",
       "        text-align: right;\n",
       "    }\n",
       "</style>\n",
       "<table border=\"1\" class=\"dataframe\">\n",
       "  <thead>\n",
       "    <tr style=\"text-align: right;\">\n",
       "      <th></th>\n",
       "      <th>journal</th>\n",
       "      <th>date</th>\n",
       "      <th>page</th>\n",
       "      <th>ppage</th>\n",
       "      <th>text</th>\n",
       "      <th>length</th>\n",
       "      <th>keyword_volvo</th>\n",
       "      <th>keyword_nyse</th>\n",
       "      <th>keyword_nestlé</th>\n",
       "      <th>keyword_heineken</th>\n",
       "      <th>...</th>\n",
       "      <th>keyword_ats</th>\n",
       "      <th>keyword_afp</th>\n",
       "      <th>keyword_reuter</th>\n",
       "      <th>keyword_reuther</th>\n",
       "      <th>keywords_petrole</th>\n",
       "      <th>keywords_OPEP</th>\n",
       "      <th>keywords_compagnies</th>\n",
       "      <th>keywords</th>\n",
       "      <th>depeches</th>\n",
       "      <th>year</th>\n",
       "    </tr>\n",
       "  </thead>\n",
       "  <tbody>\n",
       "    <tr>\n",
       "      <th>0</th>\n",
       "      <td>JDG</td>\n",
       "      <td>1974-01-07</td>\n",
       "      <td>2</td>\n",
       "      <td>NaN</td>\n",
       "      <td>Pétrole : \" (déjà 50000 la crise continue chôm...</td>\n",
       "      <td>3465</td>\n",
       "      <td>0</td>\n",
       "      <td>0</td>\n",
       "      <td>0</td>\n",
       "      <td>0</td>\n",
       "      <td>...</td>\n",
       "      <td>2</td>\n",
       "      <td>1</td>\n",
       "      <td>0</td>\n",
       "      <td>0</td>\n",
       "      <td>6</td>\n",
       "      <td>5</td>\n",
       "      <td>0</td>\n",
       "      <td>11</td>\n",
       "      <td>3</td>\n",
       "      <td>1974</td>\n",
       "    </tr>\n",
       "    <tr>\n",
       "      <th>1</th>\n",
       "      <td>JDG</td>\n",
       "      <td>1974-01-07</td>\n",
       "      <td>2</td>\n",
       "      <td>NaN</td>\n",
       "      <td>''« Je vendrai'Le chah d Iran : de l aspirine ...</td>\n",
       "      <td>1976</td>\n",
       "      <td>0</td>\n",
       "      <td>0</td>\n",
       "      <td>0</td>\n",
       "      <td>0</td>\n",
       "      <td>...</td>\n",
       "      <td>0</td>\n",
       "      <td>1</td>\n",
       "      <td>0</td>\n",
       "      <td>0</td>\n",
       "      <td>7</td>\n",
       "      <td>0</td>\n",
       "      <td>0</td>\n",
       "      <td>7</td>\n",
       "      <td>1</td>\n",
       "      <td>1974</td>\n",
       "    </tr>\n",
       "    <tr>\n",
       "      <th>2</th>\n",
       "      <td>JDG</td>\n",
       "      <td>1974-10-21</td>\n",
       "      <td>5</td>\n",
       "      <td>NaN</td>\n",
       "      <td>ETRANGER-DIAGNOSTIC Iran-Irak : un vieux confl...</td>\n",
       "      <td>2484</td>\n",
       "      <td>0</td>\n",
       "      <td>0</td>\n",
       "      <td>0</td>\n",
       "      <td>0</td>\n",
       "      <td>...</td>\n",
       "      <td>3</td>\n",
       "      <td>0</td>\n",
       "      <td>0</td>\n",
       "      <td>0</td>\n",
       "      <td>2</td>\n",
       "      <td>0</td>\n",
       "      <td>0</td>\n",
       "      <td>2</td>\n",
       "      <td>3</td>\n",
       "      <td>1974</td>\n",
       "    </tr>\n",
       "    <tr>\n",
       "      <th>3</th>\n",
       "      <td>JDG</td>\n",
       "      <td>1974-08-21</td>\n",
       "      <td>9</td>\n",
       "      <td>NaN</td>\n",
       "      <td>Du nouveau sous le soleil Nous pouvons remerci...</td>\n",
       "      <td>5930</td>\n",
       "      <td>0</td>\n",
       "      <td>0</td>\n",
       "      <td>0</td>\n",
       "      <td>0</td>\n",
       "      <td>...</td>\n",
       "      <td>4</td>\n",
       "      <td>0</td>\n",
       "      <td>0</td>\n",
       "      <td>0</td>\n",
       "      <td>4</td>\n",
       "      <td>0</td>\n",
       "      <td>0</td>\n",
       "      <td>4</td>\n",
       "      <td>4</td>\n",
       "      <td>1974</td>\n",
       "    </tr>\n",
       "    <tr>\n",
       "      <th>4</th>\n",
       "      <td>JDG</td>\n",
       "      <td>1974-08-28</td>\n",
       "      <td>5</td>\n",
       "      <td>NaN</td>\n",
       "      <td>Investissements étrangers aux USA : + 20 % en ...</td>\n",
       "      <td>1712</td>\n",
       "      <td>0</td>\n",
       "      <td>0</td>\n",
       "      <td>0</td>\n",
       "      <td>0</td>\n",
       "      <td>...</td>\n",
       "      <td>3</td>\n",
       "      <td>1</td>\n",
       "      <td>0</td>\n",
       "      <td>0</td>\n",
       "      <td>3</td>\n",
       "      <td>0</td>\n",
       "      <td>0</td>\n",
       "      <td>3</td>\n",
       "      <td>4</td>\n",
       "      <td>1974</td>\n",
       "    </tr>\n",
       "  </tbody>\n",
       "</table>\n",
       "<p>5 rows × 40 columns</p>\n",
       "</div>"
      ],
      "text/plain": [
       "  journal       date  page  ppage  \\\n",
       "0     JDG 1974-01-07     2    NaN   \n",
       "1     JDG 1974-01-07     2    NaN   \n",
       "2     JDG 1974-10-21     5    NaN   \n",
       "3     JDG 1974-08-21     9    NaN   \n",
       "4     JDG 1974-08-28     5    NaN   \n",
       "\n",
       "                                                text  length  keyword_volvo  \\\n",
       "0  Pétrole : \" (déjà 50000 la crise continue chôm...    3465              0   \n",
       "1  ''« Je vendrai'Le chah d Iran : de l aspirine ...    1976              0   \n",
       "2  ETRANGER-DIAGNOSTIC Iran-Irak : un vieux confl...    2484              0   \n",
       "3  Du nouveau sous le soleil Nous pouvons remerci...    5930              0   \n",
       "4  Investissements étrangers aux USA : + 20 % en ...    1712              0   \n",
       "\n",
       "   keyword_nyse  keyword_nestlé  keyword_heineken  ...   keyword_ats  \\\n",
       "0             0               0                 0  ...             2   \n",
       "1             0               0                 0  ...             0   \n",
       "2             0               0                 0  ...             3   \n",
       "3             0               0                 0  ...             4   \n",
       "4             0               0                 0  ...             3   \n",
       "\n",
       "   keyword_afp  keyword_reuter  keyword_reuther  keywords_petrole  \\\n",
       "0            1               0                0                 6   \n",
       "1            1               0                0                 7   \n",
       "2            0               0                0                 2   \n",
       "3            0               0                0                 4   \n",
       "4            1               0                0                 3   \n",
       "\n",
       "   keywords_OPEP  keywords_compagnies  keywords  depeches  year  \n",
       "0              5                    0        11         3  1974  \n",
       "1              0                    0         7         1  1974  \n",
       "2              0                    0         2         3  1974  \n",
       "3              0                    0         4         4  1974  \n",
       "4              0                    0         3         4  1974  \n",
       "\n",
       "[5 rows x 40 columns]"
      ]
     },
     "execution_count": 32,
     "metadata": {},
     "output_type": "execute_result"
    }
   ],
   "source": [
    "df_corpus.head()"
   ]
  },
  {
   "cell_type": "markdown",
   "metadata": {},
   "source": [
    "# Type-token ratio analysis"
   ]
  },
  {
   "cell_type": "code",
   "execution_count": 5,
   "metadata": {},
   "outputs": [],
   "source": [
    "def count_words(text):\n",
    "    ''' Returns the word (i.e. type) count for a given text.\n",
    "    \n",
    "    Input:\n",
    "        text(str)\n",
    "    \n",
    "    Output:\n",
    "        count_words(pandas DataFrame): return the count for each word\n",
    "    '''\n",
    "        \n",
    "    words = re.split('[\\s\\.,·:;\\'—«»*]', text)\n",
    "    count_words = pd.Series(words).value_counts()\n",
    "    \n",
    "    count_words = pd.DataFrame(count_words).rename(columns = {0:'count'})\n",
    "    \n",
    "    length = []\n",
    "    \n",
    "    for word in count_words.index:\n",
    "        length.append(len(word))\n",
    "        \n",
    "    count_words['length'] = length\n",
    "    \n",
    "    return count_words"
   ]
  },
  {
   "cell_type": "code",
   "execution_count": 6,
   "metadata": {},
   "outputs": [],
   "source": [
    "def type_token_ratio(text, n_sample = 100, tokens = 1000):\n",
    "    ''' Compute the type-token ratio (TTK) of a text, on n samples of same token length.\n",
    "    \n",
    "    Inputs:\n",
    "        text(str): text/corpus\n",
    "        n_sample(int): number of repeated measures\n",
    "        tokens(int): number of tokens (words) of each TTK measure\n",
    "    \n",
    "    Output:\n",
    "        type_token_ratio(list<float>): list of the TTK measures\n",
    "    '''\n",
    "    \n",
    "    words_ = re.split('[\\s\\.,·:;\\'—«»*]', str(text))\n",
    "    words, type_token_ratio = [], []\n",
    "    \n",
    "    for word_ in words_:\n",
    "        if word_ != '':\n",
    "            words.append(word_)\n",
    "        \n",
    "    distribution = np.random.uniform(0, len(words) - tokens, n_sample).astype('int')\n",
    "    \n",
    "    for random in distribution :\n",
    "        \n",
    "        range_ = words[random:random + tokens]\n",
    "        \n",
    "        sample = ''\n",
    "        for word in range_:\n",
    "            sample += word + ' '\n",
    "        \n",
    "        type_ = len(count_words(sample)) - 1\n",
    "        type_token_ratio.append(type_ / tokens)\n",
    "        \n",
    "    return type_token_ratio\n",
    "    "
   ]
  },
  {
   "cell_type": "markdown",
   "metadata": {},
   "source": [
    "Create sub-corpora with annual granularity"
   ]
  },
  {
   "cell_type": "code",
   "execution_count": 7,
   "metadata": {},
   "outputs": [],
   "source": [
    "corpus_text = ''\n",
    "\n",
    "for ind, row in df_corpus.iterrows():\n",
    "    corpus_text += row['text']"
   ]
  },
  {
   "cell_type": "code",
   "execution_count": 8,
   "metadata": {},
   "outputs": [
    {
     "data": {
      "text/plain": [
       "68571621"
      ]
     },
     "execution_count": 8,
     "metadata": {},
     "output_type": "execute_result"
    }
   ],
   "source": [
    "len(corpus_text)"
   ]
  },
  {
   "cell_type": "code",
   "execution_count": 9,
   "metadata": {},
   "outputs": [],
   "source": [
    "total_text = ''\n",
    "\n",
    "for ind, row in df_total.iterrows():\n",
    "    total_text += row['text']"
   ]
  },
  {
   "cell_type": "code",
   "execution_count": 10,
   "metadata": {},
   "outputs": [
    {
     "data": {
      "text/plain": [
       "1005319864"
      ]
     },
     "execution_count": 10,
     "metadata": {},
     "output_type": "execute_result"
    }
   ],
   "source": [
    "len(total_text)"
   ]
  },
  {
   "cell_type": "code",
   "execution_count": 11,
   "metadata": {},
   "outputs": [],
   "source": [
    "distribution = np.random.uniform(0, len(total_text) - 50000, 1000).astype('int')\n",
    "total_text_sample = ''\n",
    "\n",
    "for i in distribution :\n",
    "    total_text_sample += total_text[i:i+50000] + ' '"
   ]
  },
  {
   "cell_type": "code",
   "execution_count": 12,
   "metadata": {},
   "outputs": [
    {
     "data": {
      "text/plain": [
       "50001000"
      ]
     },
     "execution_count": 12,
     "metadata": {},
     "output_type": "execute_result"
    }
   ],
   "source": [
    "len(total_text_sample)"
   ]
  },
  {
   "cell_type": "code",
   "execution_count": 18,
   "metadata": {},
   "outputs": [],
   "source": [
    "TTR_corpus = type_token_ratio(corpus_text, n_sample = 1000, tokens = 500)\n",
    "TTR_total = type_token_ratio(total_text_sample, n_sample = 1000, tokens = 500)"
   ]
  },
  {
   "cell_type": "code",
   "execution_count": 19,
   "metadata": {},
   "outputs": [],
   "source": [
    "sns.set(rc={'figure.figsize':(12,8)})\n",
    "sns.set_style(\"ticks\")"
   ]
  },
  {
   "cell_type": "code",
   "execution_count": null,
   "metadata": {},
   "outputs": [],
   "source": [
    "plt.boxplot([TTR_corpus, TTR_total], notch = True);\n",
    "\n",
    "plt.xticks([1,2], np.array(['Corpus', 'Total archive']))\n",
    "plt.ylabel('TTR');\n",
    "plt.ylim((0.40,0.75))\n",
    "plt.title('Type Token Ratio Corpus vs Total archive \\s');\n",
    "plt.show()"
   ]
  },
  {
   "cell_type": "code",
   "execution_count": 16,
   "metadata": {},
   "outputs": [
    {
     "name": "stderr",
     "output_type": "stream",
     "text": [
      "/anaconda3/lib/python3.6/site-packages/ipykernel_launcher.py:4: SettingWithCopyWarning: \n",
      "A value is trying to be set on a copy of a slice from a DataFrame\n",
      "\n",
      "See the caveats in the documentation: http://pandas.pydata.org/pandas-docs/stable/indexing.html#indexing-view-versus-copy\n",
      "  after removing the cwd from sys.path.\n"
     ]
    }
   ],
   "source": [
    "df_corpus['year'] = 0\n",
    "\n",
    "for ind, row in df_corpus.iterrows():\n",
    "    df_corpus['year'][ind] = row['date'].year"
   ]
  },
  {
   "cell_type": "code",
   "execution_count": 17,
   "metadata": {},
   "outputs": [],
   "source": [
    "years = df_corpus['year'].value_counts().index.sort_values(ascending = True)"
   ]
  },
  {
   "cell_type": "code",
   "execution_count": 24,
   "metadata": {},
   "outputs": [],
   "source": [
    "TTR_by_year = []\n",
    "\n",
    "for year in years:\n",
    "    df = df_corpus[df_corpus['year'] == year]\n",
    "    \n",
    "    text_year = ''\n",
    "    \n",
    "    for ind, row in df.iterrows():\n",
    "        text_year += row['text']\n",
    "        \n",
    "    TTR_by_year.append(type_token_ratio(text_year, n_sample = 1000, tokens = 500))"
   ]
  },
  {
   "cell_type": "code",
   "execution_count": 26,
   "metadata": {},
   "outputs": [
    {
     "data": {
      "text/plain": [
       "array([0, 1, 2, 3])"
      ]
     },
     "execution_count": 26,
     "metadata": {},
     "output_type": "execute_result"
    }
   ],
   "source": [
    "np.arange(4)"
   ]
  },
  {
   "cell_type": "code",
   "execution_count": null,
   "metadata": {},
   "outputs": [],
   "source": [
    "plt.boxplot(TTR_by_year, notch = True);\n",
    "\n",
    "plt.xticks(np.arange(len(TTR_by_year))+1, years)\n",
    "plt.ylabel('TTR');\n",
    "plt.ylim((0.40,0.75))\n",
    "plt.title('Type Token Ratio du corpus, par année \\n');\n",
    "plt.show()"
   ]
  },
  {
   "cell_type": "code",
   "execution_count": 31,
   "metadata": {},
   "outputs": [],
   "source": [
    "for year in years:\n",
    "    \n",
    "    df = df_corpus[df_corpus['year'] == year]\n",
    "    df.to_csv(str(year) + '_corpus.csv')"
   ]
  },
  {
   "cell_type": "code",
   "execution_count": 50,
   "metadata": {},
   "outputs": [],
   "source": [
    "pages = [5, 7, 3, 9, 1]\n",
    "\n",
    "TTR_pages = []\n",
    "\n",
    "for page in pages:\n",
    "    df = df_corpus[df_corpus['page'] == page]\n",
    "    text = ''\n",
    "    \n",
    "    for ind, row in df.iterrows():\n",
    "        text += row['text']\n",
    "        \n",
    "    TTR_pages.append(type_token_ratio(text, n_sample = 1000, tokens = 500))\n",
    "    \n",
    "    df.to_csv('corpus_page_' + str(page) + '.csv')"
   ]
  },
  {
   "cell_type": "code",
   "execution_count": 52,
   "metadata": {},
   "outputs": [
    {
     "data": {
      "image/png": "[encoded data removed]",
      "text/plain": [
       "<Figure size 864x576 with 1 Axes>"
      ]
     },
     "metadata": {},
     "output_type": "display_data"
    }
   ],
   "source": [
    "plt.boxplot(TTR_pages, notch = True);\n",
    "\n",
    "plt.xticks(np.arange(len(TTR_pages))+1, pages)\n",
    "plt.ylabel('TTR')\n",
    "plt.xlabel('Pages')\n",
    "plt.ylim((0.35,0.75))\n",
    "plt.title('Type Token Ratio du corpus par page \\n');\n",
    "plt.show()"
   ]
  },
  {
   "cell_type": "code",
   "execution_count": null,
   "metadata": {},
   "outputs": [],
   "source": []
  }
 ],
 "metadata": {
  "kernelspec": {
   "display_name": "Python 3",
   "language": "python",
   "name": "python3"
  },
  "language_info": {
   "codemirror_mode": {
    "name": "ipython",
    "version": 3
   },
   "file_extension": ".py",
   "mimetype": "text/x-python",
   "name": "python",
   "nbconvert_exporter": "python",
   "pygments_lexer": "ipython3",
   "version": "3.6.5"
  }
 },
 "nbformat": 4,
 "nbformat_minor": 2
}
